{
  "nbformat": 4,
  "nbformat_minor": 0,
  "metadata": {
    "colab": {
      "provenance": [],
      "authorship_tag": "ABX9TyOaw0gvEenvnJQ0a2J7Eu8Z",
      "include_colab_link": true
    },
    "kernelspec": {
      "name": "python3",
      "display_name": "Python 3"
    },
    "language_info": {
      "name": "python"
    }
  },
  "cells": [
    {
      "cell_type": "markdown",
      "metadata": {
        "id": "view-in-github",
        "colab_type": "text"
      },
      "source": [
        "<a href=\"https://colab.research.google.com/github/2981047480/zephyr/blob/master/chapter1%E2%80%94%E2%80%94python%E5%90%8C%E6%97%B6%E7%BB%99%E5%A4%9A%E4%B8%AA%E5%8F%98%E9%87%8F%E8%B5%8B%E5%80%BC.ipynb\" target=\"_parent\"><img src=\"https://colab.research.google.com/assets/colab-badge.svg\" alt=\"Open In Colab\"/></a>"
      ]
    },
    {
      "cell_type": "markdown",
      "source": [
        "# python列表的多重赋值"
      ],
      "metadata": {
        "id": "51BgRgKPuRK9"
      }
    },
    {
      "cell_type": "markdown",
      "source": [
        "## 正常用法"
      ],
      "metadata": {
        "id": "Qf2kyf43M145"
      }
    },
    {
      "cell_type": "markdown",
      "source": [
        "比如vars=[1,2,3]，则可以用a,b,c = vars来给他赋值，同时vars=[1,2,3,4,5]，则可以用a,*b,c = vars去给他们赋值，这样得到的b是一个列表（就算var是turple类型，b的类型也是list）"
      ],
      "metadata": {
        "id": "yBBl0SNquTv8"
      }
    },
    {
      "cell_type": "markdown",
      "source": [
        "另外vars=[1,(2,3),4]，则可以用a,(b,c),d = vars去赋值。"
      ],
      "metadata": {
        "id": "8Z9pHIG9uYaI"
      }
    },
    {
      "cell_type": "markdown",
      "source": [
        "当我们只想要其中的某几个元素，我们可以这么做："
      ],
      "metadata": {
        "id": "3SzACvc3udt1"
      }
    },
    {
      "cell_type": "markdown",
      "source": [
        "> a, _, c, _ = vars"
      ],
      "metadata": {
        "id": "VBVCIAjmImhz"
      }
    },
    {
      "cell_type": "markdown",
      "source": [
        "我们还可以对带星号的变量进行操作，如："
      ],
      "metadata": {
        "id": "YIHfsZE_IraU"
      }
    },
    {
      "cell_type": "code",
      "execution_count": 1,
      "metadata": {
        "id": "shk2FanWt_cE"
      },
      "outputs": [],
      "source": [
        "vars = [1,2,3,4,5,6,7,8]\n",
        "a, *b, c = vars"
      ]
    },
    {
      "cell_type": "code",
      "source": [
        "sum(b)/len(b)"
      ],
      "metadata": {
        "colab": {
          "base_uri": "https://localhost:8080/"
        },
        "id": "OUuDqRl9J4Kz",
        "outputId": "69838d2f-8187-4c06-820d-cb8a3a83e892"
      },
      "execution_count": 4,
      "outputs": [
        {
          "output_type": "execute_result",
          "data": {
            "text/plain": [
              "4.5"
            ]
          },
          "metadata": {},
          "execution_count": 4
        }
      ]
    },
    {
      "cell_type": "markdown",
      "source": [
        "## 另一种用法\n",
        "我们也可以用split去分隔后用我们上面学的表达式进行赋值"
      ],
      "metadata": {
        "id": "TtG4H2nCLwFZ"
      }
    },
    {
      "cell_type": "code",
      "source": [
        "str1 = 'a,b,c,d,e,f'\n",
        "a, *bcde, f = str1.split(',')"
      ],
      "metadata": {
        "id": "cCybNIIHLEOM"
      },
      "execution_count": 5,
      "outputs": []
    },
    {
      "cell_type": "code",
      "source": [
        "a, bcde, f"
      ],
      "metadata": {
        "colab": {
          "base_uri": "https://localhost:8080/"
        },
        "id": "F6MhFybBMLUq",
        "outputId": "c9d5ef91-bebd-4c7d-f862-8b908b9401c5"
      },
      "execution_count": 6,
      "outputs": [
        {
          "output_type": "execute_result",
          "data": {
            "text/plain": [
              "('a', ['b', 'c', 'd', 'e'], 'f')"
            ]
          },
          "metadata": {},
          "execution_count": 6
        }
      ]
    },
    {
      "cell_type": "code",
      "source": [],
      "metadata": {
        "id": "rv4EC_h6MOFC"
      },
      "execution_count": null,
      "outputs": []
    }
  ]
}