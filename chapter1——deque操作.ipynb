{
  "nbformat": 4,
  "nbformat_minor": 0,
  "metadata": {
    "colab": {
      "provenance": [],
      "authorship_tag": "ABX9TyMQVfrnyCwuLrVPNkLZThpw",
      "include_colab_link": true
    },
    "kernelspec": {
      "name": "python3",
      "display_name": "Python 3"
    },
    "language_info": {
      "name": "python"
    }
  },
  "cells": [
    {
      "cell_type": "markdown",
      "metadata": {
        "id": "view-in-github",
        "colab_type": "text"
      },
      "source": [
        "<a href=\"https://colab.research.google.com/github/2981047480/zephyr/blob/master/chapter1%E2%80%94%E2%80%94deque%E6%93%8D%E4%BD%9C.ipynb\" target=\"_parent\"><img src=\"https://colab.research.google.com/assets/colab-badge.svg\" alt=\"Open In Colab\"/></a>"
      ]
    },
    {
      "cell_type": "markdown",
      "source": [
        "# 保留最后N个元素"
      ],
      "metadata": {
        "id": "fXSNkPafUOtK"
      }
    },
    {
      "cell_type": "code",
      "execution_count": 1,
      "metadata": {
        "id": "bkJM3GuhUGcl"
      },
      "outputs": [],
      "source": [
        "tmp_list = [ i for i in range(100) ]"
      ]
    },
    {
      "cell_type": "code",
      "source": [
        "tmp_list"
      ],
      "metadata": {
        "id": "2HbjrugFPc_a"
      },
      "execution_count": null,
      "outputs": []
    },
    {
      "cell_type": "code",
      "source": [
        "from collections import deque"
      ],
      "metadata": {
        "id": "4ajgAFVXPhGA"
      },
      "execution_count": 3,
      "outputs": []
    },
    {
      "cell_type": "markdown",
      "source": [
        "我们可以对deque进行一些操作，比如我们可以设置他的最大长度，以此来实现固定长度的数组"
      ],
      "metadata": {
        "id": "kDTdu7n6WjRr"
      }
    },
    {
      "cell_type": "code",
      "source": [
        "deque_list = deque(maxlen=5)\n",
        "for i in range(5):\n",
        "  deque_list.append(i)\n",
        "deque_list"
      ],
      "metadata": {
        "colab": {
          "base_uri": "https://localhost:8080/"
        },
        "id": "wBn21D0gW3WR",
        "outputId": "0b8bc37a-841f-4a15-c7d7-53f5013fecca"
      },
      "execution_count": 18,
      "outputs": [
        {
          "output_type": "execute_result",
          "data": {
            "text/plain": [
              "deque([0, 1, 2, 3, 4])"
            ]
          },
          "metadata": {},
          "execution_count": 18
        }
      ]
    },
    {
      "cell_type": "code",
      "source": [
        "deque_list.append(5)\n",
        "deque_list"
      ],
      "metadata": {
        "colab": {
          "base_uri": "https://localhost:8080/"
        },
        "id": "4W4StTZQXMGq",
        "outputId": "4e1ab536-ea99-4a3c-c903-3ac01e874f72"
      },
      "execution_count": 19,
      "outputs": [
        {
          "output_type": "execute_result",
          "data": {
            "text/plain": [
              "deque([1, 2, 3, 4, 5])"
            ]
          },
          "metadata": {},
          "execution_count": 19
        }
      ]
    },
    {
      "cell_type": "markdown",
      "source": [
        "这。。。有没有想到什么，这就是个队列啊，另外我们也可以这样："
      ],
      "metadata": {
        "id": "4xJB8yPAY1lg"
      }
    },
    {
      "cell_type": "code",
      "source": [
        "deque_list.appendleft(-1)\n",
        "deque_list"
      ],
      "metadata": {
        "colab": {
          "base_uri": "https://localhost:8080/"
        },
        "id": "wB6mxHy3ZB1Q",
        "outputId": "590503d8-cf3c-4656-b1f7-2a704c174b42"
      },
      "execution_count": 20,
      "outputs": [
        {
          "output_type": "execute_result",
          "data": {
            "text/plain": [
              "deque([-1, 1, 2, 3, 4])"
            ]
          },
          "metadata": {},
          "execution_count": 20
        }
      ]
    },
    {
      "cell_type": "code",
      "source": [
        "deque_list.popleft()\n",
        "deque_list"
      ],
      "metadata": {
        "colab": {
          "base_uri": "https://localhost:8080/"
        },
        "id": "Rb-GC9CnZqC1",
        "outputId": "54389a83-5473-4410-d5f4-8e201b195c45"
      },
      "execution_count": 21,
      "outputs": [
        {
          "output_type": "execute_result",
          "data": {
            "text/plain": [
              "deque([1, 2, 3, 4])"
            ]
          },
          "metadata": {},
          "execution_count": 21
        }
      ]
    },
    {
      "cell_type": "markdown",
      "source": [
        "不过话说回来，队列都有了，别的呢？"
      ],
      "metadata": {
        "id": "mZF3XqN-Y9H_"
      }
    },
    {
      "cell_type": "code",
      "source": [
        "deque_list.pop()\n",
        "deque_list"
      ],
      "metadata": {
        "colab": {
          "base_uri": "https://localhost:8080/"
        },
        "id": "iVMO732ZZU40",
        "outputId": "d9b3f196-9f45-4f38-b782-4013520d54ef"
      },
      "execution_count": 22,
      "outputs": [
        {
          "output_type": "execute_result",
          "data": {
            "text/plain": [
              "deque([1, 2, 3])"
            ]
          },
          "metadata": {},
          "execution_count": 22
        }
      ]
    },
    {
      "cell_type": "markdown",
      "source": [
        "同样我们可以利用他这个特性去做一些不一样的事情："
      ],
      "metadata": {
        "id": "JNCkhUtdYTil"
      }
    },
    {
      "cell_type": "code",
      "source": [
        "patten = lambda x: x%5\n",
        "def get_previus_n(listi:list, patten, history):\n",
        "  previus = deque(maxlen=history)\n",
        "  for i in listi:\n",
        "    if patten(i)==0:\n",
        "      yield i, previus\n",
        "    previus.append(i)\n",
        "get_previus_n(tmp_list,patten,3)\n"
      ],
      "metadata": {
        "colab": {
          "base_uri": "https://localhost:8080/"
        },
        "id": "MVhvooyqP0Cg",
        "outputId": "bd4256ed-a91a-47bf-adf4-87203efbbb47"
      },
      "execution_count": 12,
      "outputs": [
        {
          "output_type": "execute_result",
          "data": {
            "text/plain": [
              "<generator object get_previus_n at 0x7f2cf4bbfe60>"
            ]
          },
          "metadata": {},
          "execution_count": 12
        }
      ]
    },
    {
      "cell_type": "code",
      "source": [
        "get_n = get_previus_n(tmp_list,patten,3)\n",
        "for i,j in get_n:\n",
        "  print(i,j)"
      ],
      "metadata": {
        "colab": {
          "base_uri": "https://localhost:8080/"
        },
        "id": "0n1NnlIiXiHk",
        "outputId": "594a901d-ff7c-4370-a6b6-465e1083f69f"
      },
      "execution_count": 14,
      "outputs": [
        {
          "output_type": "stream",
          "name": "stdout",
          "text": [
            "0 deque([], maxlen=3)\n",
            "5 deque([2, 3, 4], maxlen=3)\n",
            "10 deque([7, 8, 9], maxlen=3)\n",
            "15 deque([12, 13, 14], maxlen=3)\n",
            "20 deque([17, 18, 19], maxlen=3)\n",
            "25 deque([22, 23, 24], maxlen=3)\n",
            "30 deque([27, 28, 29], maxlen=3)\n",
            "35 deque([32, 33, 34], maxlen=3)\n",
            "40 deque([37, 38, 39], maxlen=3)\n",
            "45 deque([42, 43, 44], maxlen=3)\n",
            "50 deque([47, 48, 49], maxlen=3)\n",
            "55 deque([52, 53, 54], maxlen=3)\n",
            "60 deque([57, 58, 59], maxlen=3)\n",
            "65 deque([62, 63, 64], maxlen=3)\n",
            "70 deque([67, 68, 69], maxlen=3)\n",
            "75 deque([72, 73, 74], maxlen=3)\n",
            "80 deque([77, 78, 79], maxlen=3)\n",
            "85 deque([82, 83, 84], maxlen=3)\n",
            "90 deque([87, 88, 89], maxlen=3)\n",
            "95 deque([92, 93, 94], maxlen=3)\n"
          ]
        }
      ]
    },
    {
      "cell_type": "code",
      "source": [],
      "metadata": {
        "id": "lYfKzDzdX9Bw"
      },
      "execution_count": null,
      "outputs": []
    }
  ]
}